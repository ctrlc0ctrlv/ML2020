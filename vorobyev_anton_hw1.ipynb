{
 "cells": [
  {
   "cell_type": "markdown",
   "metadata": {},
   "source": [
    "## Общая информация\n",
    "\n",
    "**Срок сдачи:** 5 апреля 2022, 08:30 \n",
    "\n",
    "**Штраф за опоздание:** по 1 баллу за 24 часа задержки. Через 5 дней домашнее задание сгорает.\n",
    "\n",
    "При отправлении ДЗ указывайте фамилию в названии файла\n",
    "Присылать ДЗ необходимо в виде ссылки на свой github репозиторий на почту ml1.sphere@mail.ru с указанием темы в следующем формате:\n",
    "\n",
    "[ML0220, Задание 1] Фамилия Имя.\n",
    "\n",
    "Используйте данный Ipython Notebook при оформлении домашнего задания."
   ]
  },
  {
   "cell_type": "markdown",
   "metadata": {},
   "source": [
    "\n",
    "**Штрафные баллы:**\n",
    "\n",
    "1. Отсутствие фамилии в имени скрипта (скрипт должен называться по аналогии со stroykova_hw1.ipynb) -0.5 баллов\n",
    "2. Все строчки должны быть выполнены. Нужно, чтобы output команды можно было увидеть уже в git'е. В противном случае -0.5 баллов\n"
   ]
  },
  {
   "cell_type": "code",
   "execution_count": 1,
   "metadata": {
    "jupyter": {
     "outputs_hidden": true
    }
   },
   "outputs": [],
   "source": [
    "import numpy as np\n",
    "import matplotlib.pyplot as plt\n",
    "\n",
    "import seaborn as sns\n",
    "from sklearn import datasets\n",
    "from sklearn.base import BaseEstimator\n",
    "from sklearn.datasets import fetch_openml, fetch_20newsgroups\n",
    "\n",
    "from sklearn.model_selection import train_test_split\n",
    "from sklearn.neighbors import KNeighborsClassifier\n",
    "from sklearn.metrics import accuracy_score\n",
    "\n",
    "from scipy.spatial.distance import minkowski, cosine\n",
    "from scipy.spatial.distance import cdist\n",
    "from sklearn.neighbors import KDTree\n",
    "from sklearn.feature_extraction.text import CountVectorizer\n",
    "from sklearn.model_selection import KFold\n",
    "from sklearn.feature_extraction.text import TfidfVectorizer\n"
   ]
  },
  {
   "cell_type": "markdown",
   "metadata": {},
   "source": [
    "### Задание 1 (1 балл)\n",
    "Реализовать KNN в классе MyKNeighborsClassifier (обязательное условие: точность не ниже sklearn реализации)\n",
    "Разберитесь самостоятельно, какая мера расстояния используется в KNeighborsClassifier дефолтно и реализуйте свой алгоритм именно с этой мерой. \n",
    "Для подсчета расстояний можно использовать функции [отсюда](https://docs.scipy.org/doc/scipy/reference/spatial.distance.html)"
   ]
  },
  {
   "cell_type": "code",
   "execution_count": 2,
   "metadata": {
    "jupyter": {
     "outputs_hidden": true
    }
   },
   "outputs": [],
   "source": [
    "class MyKNeighborsClassifier(BaseEstimator):\n",
    "    def __init__(self, n_neighbors, algorithm=\"brute\", metric=\"minkowski\"):\n",
    "        self._n_neighbors = n_neighbors\n",
    "        self._algo = algorithm\n",
    "        self._metric = metric\n",
    "\n",
    "    def fit(self, X, y):\n",
    "        # в sklearn.neighbors.KNeighborsClassifier по умолчанию используется метрика minkowski (p=2)\n",
    "        self._data = X\n",
    "        self._labels = y\n",
    "        if self._algo == \"kd_tree\":\n",
    "            self.tree = KDTree(X, metric=self._metric)\n",
    "\n",
    "    def indices_reduce(self, temp):\n",
    "        def my_func(arr):\n",
    "            unique, unique_cnt = np.unique(arr, return_counts=True, axis=0)\n",
    "            return unique[np.argmax(unique_cnt)]\n",
    "\n",
    "        return np.apply_along_axis(my_func, 1, temp)\n",
    "\n",
    "    # def calc_distances(self, arr_A, arr_B):\n",
    "    # def func(temp_arr_B):\n",
    "    # def sub_func(temp_arr_A):\n",
    "    # if self._metric == \"minkowski\":\n",
    "    # return minkowski(temp_arr_A, temp_arr_B)\n",
    "    # else:\n",
    "    # return cosine(temp_arr_A, temp_arr_B)\n",
    "\n",
    "    # return np.apply_along_axis(sub_func, 1, arr_A)\n",
    "\n",
    "    # return np.apply_along_axis(func, 1, arr_B)\n",
    "\n",
    "    def predict(self, X):\n",
    "        if self._algo == \"brute\":\n",
    "            axis = 1\n",
    "            ext_labels = cdist(X, self._data, self._metric)\n",
    "\n",
    "            ind = np.arange(-1, -self._n_neighbors - 1, -1)\n",
    "            final_indexes = np.take(\n",
    "                np.argsort(-ext_labels, axis=axis), axis=axis, indices=ind\n",
    "            )\n",
    "        elif self._algo == \"kd_tree\":\n",
    "            final_indexes = self.tree.query(\n",
    "                X, k=self._n_neighbors, return_distance=False\n",
    "            )\n",
    "        temp = self._labels[final_indexes]\n",
    "        return self.indices_reduce(temp)\n"
   ]
  },
  {
   "cell_type": "code",
   "execution_count": 3,
   "metadata": {},
   "outputs": [],
   "source": [
    "# small brute test sample\n",
    "X_t = np.asarray([[5], [6], [7], [-5], [-6], [-7]])\n",
    "y_t = np.asarray([0, 0, 0, 1, 1, 1])\n",
    "my_clf = MyKNeighborsClassifier(n_neighbors=2, algorithm=\"brute\")\n",
    "my_clf.fit(X_t, y_t)\n",
    "X_tst = np.asarray([[5], [-6.3]])\n",
    "my_clf_pred = my_clf.predict(X_tst)\n",
    "assert np.all(my_clf_pred == np.asarray([0, 1]))\n",
    "# print(my_clf_pred)\n"
   ]
  },
  {
   "cell_type": "code",
   "execution_count": 4,
   "metadata": {},
   "outputs": [],
   "source": [
    "# small kd_tree test sample\n",
    "X_t = np.asarray([[5], [6], [7], [-5], [-6], [-7]])\n",
    "y_t = np.asarray([0, 0, 0, 1, 1, 1])\n",
    "my_clf = MyKNeighborsClassifier(n_neighbors=2, algorithm=\"kd_tree\")\n",
    "my_clf.fit(X_t, y_t)\n",
    "X_tst = np.asarray([[5], [-6.3]])\n",
    "my_clf_pred = my_clf.predict(X_tst)\n",
    "assert np.all(my_clf_pred == np.asarray([0, 1]))\n"
   ]
  },
  {
   "cell_type": "markdown",
   "metadata": {},
   "source": [
    "**IRIS**\n",
    "\n",
    "В библиотеке scikit-learn есть несколько датасетов из коробки. Один из них [Ирисы Фишера](https://ru.wikipedia.org/wiki/%D0%98%D1%80%D0%B8%D1%81%D1%8B_%D0%A4%D0%B8%D1%88%D0%B5%D1%80%D0%B0)"
   ]
  },
  {
   "cell_type": "code",
   "execution_count": 5,
   "metadata": {
    "jupyter": {
     "outputs_hidden": true
    }
   },
   "outputs": [],
   "source": [
    "iris = datasets.load_iris()\n"
   ]
  },
  {
   "cell_type": "code",
   "execution_count": 6,
   "metadata": {
    "jupyter": {
     "outputs_hidden": true
    }
   },
   "outputs": [
    {
     "name": "stdout",
     "output_type": "stream",
     "text": [
      "Train shape: (135, 4)\n"
     ]
    }
   ],
   "source": [
    "X_train, X_test, y_train, y_test = train_test_split(\n",
    "    iris.data, iris.target, test_size=0.1, stratify=iris.target\n",
    ")\n",
    "print(\"Train shape:\", X_train.shape)\n"
   ]
  },
  {
   "cell_type": "code",
   "execution_count": 7,
   "metadata": {
    "jupyter": {
     "outputs_hidden": true
    }
   },
   "outputs": [],
   "source": [
    "clf = KNeighborsClassifier(n_neighbors=2, algorithm=\"brute\")\n",
    "my_clf = MyKNeighborsClassifier(n_neighbors=2, algorithm=\"brute\")\n"
   ]
  },
  {
   "cell_type": "code",
   "execution_count": 8,
   "metadata": {
    "jupyter": {
     "outputs_hidden": true
    }
   },
   "outputs": [],
   "source": [
    "clf.fit(X_train, y_train)\n",
    "my_clf.fit(X_train, y_train)\n"
   ]
  },
  {
   "cell_type": "code",
   "execution_count": 9,
   "metadata": {
    "jupyter": {
     "outputs_hidden": true
    }
   },
   "outputs": [],
   "source": [
    "sklearn_pred = clf.predict(X_test)\n",
    "my_clf_pred = my_clf.predict(X_test)\n",
    "assert (\n",
    "    abs(\n",
    "        accuracy_score(y_test, my_clf_pred)\n",
    "        - accuracy_score(y_test, sklearn_pred)\n",
    "    )\n",
    "    < 0.005\n",
    "), \"Score must be simillar\"\n"
   ]
  },
  {
   "cell_type": "markdown",
   "metadata": {},
   "source": [
    "### Задание 2 (0.5 балла)\n",
    "\n",
    "Давайте попробуем добиться скорости работы на fit, predict сравнимой со sklearn для iris. Допускается замедление не более чем в 2 раза. \n",
    "Для этого используем numpy. "
   ]
  },
  {
   "cell_type": "code",
   "execution_count": 10,
   "metadata": {
    "jupyter": {
     "outputs_hidden": true
    }
   },
   "outputs": [
    {
     "name": "stdout",
     "output_type": "stream",
     "text": [
      "Wall time: 1 ms\n"
     ]
    },
    {
     "data": {
      "text/plain": [
       "KNeighborsClassifier(algorithm='brute', n_neighbors=2)"
      ]
     },
     "execution_count": 10,
     "metadata": {},
     "output_type": "execute_result"
    }
   ],
   "source": [
    "# timeit measures average time for a number of loops, but it is too slow\n",
    "%time clf.fit(X_train, y_train)"
   ]
  },
  {
   "cell_type": "code",
   "execution_count": 11,
   "metadata": {
    "jupyter": {
     "outputs_hidden": true
    }
   },
   "outputs": [
    {
     "name": "stdout",
     "output_type": "stream",
     "text": [
      "Wall time: 0 ns\n"
     ]
    }
   ],
   "source": [
    "%time my_clf.fit(X_train, y_train)"
   ]
  },
  {
   "cell_type": "code",
   "execution_count": 12,
   "metadata": {
    "jupyter": {
     "outputs_hidden": true
    }
   },
   "outputs": [
    {
     "name": "stdout",
     "output_type": "stream",
     "text": [
      "Wall time: 4 ms\n"
     ]
    },
    {
     "data": {
      "text/plain": [
       "array([1, 2, 0, 0, 1, 2, 1, 2, 0, 0, 1, 1, 2, 1, 0])"
      ]
     },
     "execution_count": 12,
     "metadata": {},
     "output_type": "execute_result"
    }
   ],
   "source": [
    "%time clf.predict(X_test)"
   ]
  },
  {
   "cell_type": "code",
   "execution_count": 13,
   "metadata": {
    "jupyter": {
     "outputs_hidden": true
    }
   },
   "outputs": [
    {
     "name": "stdout",
     "output_type": "stream",
     "text": [
      "Wall time: 999 µs\n"
     ]
    },
    {
     "data": {
      "text/plain": [
       "array([1, 2, 0, 0, 1, 2, 1, 2, 0, 0, 1, 1, 2, 1, 0])"
      ]
     },
     "execution_count": 13,
     "metadata": {},
     "output_type": "execute_result"
    }
   ],
   "source": [
    "%time my_clf.predict(X_test)"
   ]
  },
  {
   "cell_type": "code",
   "execution_count": 14,
   "metadata": {},
   "outputs": [
    {
     "name": "stdout",
     "output_type": "stream",
     "text": [
      "Timer unit: 1e-07 s\n",
      "\n",
      "Total time: 0.004349 s\n",
      "File: C:\\Users\\3EC2~1\\AppData\\Local\\Temp/ipykernel_12120/2426154540.py\n",
      "Function: predict at line 33\n",
      "\n",
      "Line #      Hits         Time  Per Hit   % Time  Line Contents\n",
      "==============================================================\n",
      "    33                                               def predict(self, X):\n",
      "    34         1         36.0     36.0      0.1          if self._algo == \"brute\":\n",
      "    35         1          7.0      7.0      0.0              axis = 1\n",
      "    36         1       2124.0   2124.0      4.9              ext_labels = cdist(X, self._data, self._metric)\n",
      "    37                                           \n",
      "    38         1        101.0    101.0      0.2              ind = np.arange(-1, -self._n_neighbors - 1, -1)\n",
      "    39         2        190.0     95.0      0.4              final_indexes = np.take(\n",
      "    40         1        926.0    926.0      2.1                  np.argsort(-ext_labels, axis=axis), axis=axis, indices=ind\n",
      "    41                                                       )\n",
      "    42                                                   elif self._algo == \"kd_tree\":\n",
      "    43                                                       final_indexes = self.tree.query(\n",
      "    44                                                           X, k=self._n_neighbors, return_distance=False\n",
      "    45                                                       )\n",
      "    46         1         29.0     29.0      0.1          temp = self._labels[final_indexes]\n",
      "    47         1      40077.0  40077.0     92.2          return self.indices_reduce(temp)"
     ]
    }
   ],
   "source": [
    "# time profiling\n",
    "# (using cycles instead of cdist took much more time,\n",
    "# so I dicided to check if everything is allright with code)\n",
    "%load_ext line_profiler\n",
    "%lprun -f my_clf.predict my_clf.predict(X_test)"
   ]
  },
  {
   "cell_type": "markdown",
   "metadata": {},
   "source": [
    "### Задание 3 (1 балл)\n",
    "Добавьте algorithm='kd_tree' в реализацию KNN (использовать KDTree из sklearn.neighbors). Необходимо добиться скорости работы на fit,  predict сравнимой со sklearn для iris. Допускается замедление не более чем в 2 раза. \n",
    "Для этого используем numpy. Точность не должна уступать значению KNN из sklearn. "
   ]
  },
  {
   "cell_type": "code",
   "execution_count": 15,
   "metadata": {
    "jupyter": {
     "outputs_hidden": true
    }
   },
   "outputs": [],
   "source": [
    "clf = KNeighborsClassifier(n_neighbors=2, algorithm=\"kd_tree\")\n",
    "my_clf = MyKNeighborsClassifier(n_neighbors=2, algorithm=\"kd_tree\")\n"
   ]
  },
  {
   "cell_type": "code",
   "execution_count": 16,
   "metadata": {
    "jupyter": {
     "outputs_hidden": true
    }
   },
   "outputs": [],
   "source": [
    "X_train, X_test, y_train, y_test = train_test_split(\n",
    "    iris.data, iris.target, test_size=0.1, stratify=iris.target\n",
    ")\n"
   ]
  },
  {
   "cell_type": "code",
   "execution_count": 17,
   "metadata": {
    "jupyter": {
     "outputs_hidden": true
    }
   },
   "outputs": [
    {
     "name": "stdout",
     "output_type": "stream",
     "text": [
      "Wall time: 1e+03 µs\n"
     ]
    },
    {
     "data": {
      "text/plain": [
       "KNeighborsClassifier(algorithm='kd_tree', n_neighbors=2)"
      ]
     },
     "execution_count": 17,
     "metadata": {},
     "output_type": "execute_result"
    }
   ],
   "source": [
    "%time clf.fit(X_train, y_train)"
   ]
  },
  {
   "cell_type": "code",
   "execution_count": 18,
   "metadata": {
    "jupyter": {
     "outputs_hidden": true
    }
   },
   "outputs": [
    {
     "name": "stdout",
     "output_type": "stream",
     "text": [
      "Wall time: 0 ns\n"
     ]
    }
   ],
   "source": [
    "%time my_clf.fit(X_train, y_train)"
   ]
  },
  {
   "cell_type": "code",
   "execution_count": 19,
   "metadata": {
    "jupyter": {
     "outputs_hidden": true
    }
   },
   "outputs": [
    {
     "name": "stdout",
     "output_type": "stream",
     "text": [
      "Wall time: 2 ms\n"
     ]
    },
    {
     "data": {
      "text/plain": [
       "array([0, 1, 1, 0, 2, 0, 1, 2, 0, 1, 1, 1, 2, 0, 2])"
      ]
     },
     "execution_count": 19,
     "metadata": {},
     "output_type": "execute_result"
    }
   ],
   "source": [
    "%time clf.predict(X_test)"
   ]
  },
  {
   "cell_type": "code",
   "execution_count": 20,
   "metadata": {
    "jupyter": {
     "outputs_hidden": true
    }
   },
   "outputs": [
    {
     "name": "stdout",
     "output_type": "stream",
     "text": [
      "Wall time: 965 µs\n"
     ]
    },
    {
     "data": {
      "text/plain": [
       "array([0, 1, 1, 0, 2, 0, 1, 2, 0, 1, 1, 1, 2, 0, 2])"
      ]
     },
     "execution_count": 20,
     "metadata": {},
     "output_type": "execute_result"
    }
   ],
   "source": [
    "%time my_clf.predict(X_test)"
   ]
  },
  {
   "cell_type": "code",
   "execution_count": 21,
   "metadata": {
    "jupyter": {
     "outputs_hidden": true
    }
   },
   "outputs": [],
   "source": [
    "sklearn_pred = clf.predict(X_test)\n",
    "my_clf_pred = my_clf.predict(X_test)\n",
    "assert (\n",
    "    abs(\n",
    "        accuracy_score(y_test, my_clf_pred)\n",
    "        - accuracy_score(y_test, sklearn_pred)\n",
    "    )\n",
    "    < 0.005\n",
    "), \"Score must be simillar\"\n"
   ]
  },
  {
   "cell_type": "markdown",
   "metadata": {},
   "source": [
    "### Задание 4 (2.5 балла)\n",
    "\n",
    "Рассмотрим новый датасет 20 newsgroups"
   ]
  },
  {
   "cell_type": "code",
   "execution_count": 22,
   "metadata": {
    "collapsed": true,
    "jupyter": {
     "outputs_hidden": true
    }
   },
   "outputs": [],
   "source": [
    "newsgroups = fetch_20newsgroups(\n",
    "    subset=\"train\", remove=[\"headers\", \"footers\", \"quotes\"]\n",
    ")\n"
   ]
  },
  {
   "cell_type": "code",
   "execution_count": 23,
   "metadata": {
    "collapsed": true,
    "jupyter": {
     "outputs_hidden": true
    }
   },
   "outputs": [],
   "source": [
    "data = newsgroups[\"data\"]\n",
    "target = newsgroups[\"target\"]\n"
   ]
  },
  {
   "cell_type": "markdown",
   "metadata": {},
   "source": [
    "Преобразуйте текстовые данные из data с помощью [CountVectorizer](https://scikit-learn.org/stable/modules/generated/sklearn.feature_extraction.text.CountVectorizer.html). Словарь можно ограничить по частотности."
   ]
  },
  {
   "cell_type": "code",
   "execution_count": 26,
   "metadata": {
    "collapsed": true,
    "jupyter": {
     "outputs_hidden": true
    }
   },
   "outputs": [
    {
     "name": "stdout",
     "output_type": "stream",
     "text": [
      "['I was wondering if anyone out there could enlighten me on this car I saw\\nthe other day. It was a 2-door sports car, looked to be from the late 60s/\\nearly 70s. It was called a Bricklin. The doors were really small. In addition,\\nthe front bumper was separate from the rest of the body. This is \\nall I know. If anyone can tellme a model name, engine specs, years\\nof production, where this car is made, history, or whatever info you\\nhave on this funky looking car, please e-mail.', \"A fair number of brave souls who upgraded their SI clock oscillator have\\nshared their experiences for this poll. Please send a brief message detailing\\nyour experiences with the procedure. Top speed attained, CPU rated speed,\\nadd on cards and adapters, heat sinks, hour of usage per day, floppy disk\\nfunctionality with 800 and 1.4 m floppies are especially requested.\\n\\nI will be summarizing in the next two days, so please add to the network\\nknowledge base if you have done the clock upgrade and haven't answered this\\npoll. Thanks.\"]\n",
      "Shape before vectorization: 11314 475\n",
      "Shape after vectorization: (11314, 113)\n",
      "(11314,)\n"
     ]
    }
   ],
   "source": [
    "print(data[0:2])\n",
    "print(\"Shape before vectorization:\", len(data), len(data[0]))\n",
    "# let's ignore words that are less frequent than 10% and more frequent than 90%\n",
    "vectorizer = CountVectorizer(min_df=0.1, max_df=0.9)\n",
    "data = vectorizer.fit_transform(data).toarray()\n",
    "# print(data[0, 25775])\n",
    "# array = data.toarray()\n",
    "# data.dtype=np.int8\n",
    "print(\"Shape after vectorization:\", data.shape)\n",
    "print(target.shape)\n"
   ]
  },
  {
   "cell_type": "markdown",
   "metadata": {},
   "source": [
    "*Так мы получили векторное представление наших текстов. Значит можно приступать к задаче обучения модели*"
   ]
  },
  {
   "cell_type": "markdown",
   "metadata": {},
   "source": [
    "Реализуйте разбиение выборки для кросс-валидации на 3 фолдах. Разрешено использовать sklearn.cross_validation\n",
    "\n",
    "*Примечание: изменено в новой версии на sklearn.model_selection*\n",
    "[Ссылка](https://stackoverflow.com/questions/30667525/importerror-no-module-named-sklearn-cross-validation)"
   ]
  },
  {
   "cell_type": "code",
   "execution_count": 27,
   "metadata": {
    "collapsed": true,
    "jupyter": {
     "outputs_hidden": true
    }
   },
   "outputs": [],
   "source": [
    "# using 3 folds KFold\n",
    "kfold = KFold(n_splits=3)"
   ]
  },
  {
   "cell_type": "markdown",
   "metadata": {},
   "source": [
    "Напишите метод, позволяющий найти оптимальное количество ближайших соседей(дающее максимальную точность в среднем на валидации на 3 фолдах).\n",
    "Постройте график зависимости средней точности от количества соседей. Можно рассмотреть число соседей от 1 до 10."
   ]
  },
  {
   "cell_type": "code",
   "execution_count": 28,
   "metadata": {
    "collapsed": true,
    "jupyter": {
     "outputs_hidden": true
    }
   },
   "outputs": [],
   "source": [
    "def get_optimal_kvalue(data_vectorized, target, metric=\"minkowski\"):\n",
    "    \"\"\"Returns accuracy score values for different number of neighbors\"\"\"\n",
    "    mean_scores = np.zeros(shape=(3, 10))\n",
    "    i = 0\n",
    "    for train_index, test_index in kfold.split(data_vectorized):\n",
    "        clf = MyKNeighborsClassifier(\n",
    "            n_neighbors=1, algorithm=\"brute\", metric=metric\n",
    "        )\n",
    "        scores = np.asarray([])\n",
    "        clf.fit(data_vectorized[train_index], target[train_index])\n",
    "        for n_neighbors in range(1, 11):\n",
    "            clf._n_neighbors = n_neighbors\n",
    "            pred = clf.predict(data_vectorized[test_index])\n",
    "            cur_score = accuracy_score(target[test_index], pred)\n",
    "            scores = np.append(scores, cur_score)\n",
    "        print(f\"Mean scores vector for current fold is {scores}\")\n",
    "        mean_scores[i] = scores\n",
    "        i += 1\n",
    "    return mean_scores\n"
   ]
  },
  {
   "cell_type": "code",
   "execution_count": 29,
   "metadata": {},
   "outputs": [],
   "source": [
    "def plot_optimal_kvalue(data_vectorized, target, metric=\"minkowski\"):\n",
    "    arr_mean_scores = get_optimal_kvalue(data_vectorized, target, metric)\n",
    "    mean_scores = np.mean(arr_mean_scores, axis=0)\n",
    "\n",
    "    plt.figure(figsize=(10, 6))\n",
    "    plt.plot(\n",
    "        range(1, 11),\n",
    "        mean_scores,\n",
    "        color=\"blue\",\n",
    "        linestyle=\"dashed\",\n",
    "        marker=\"o\",\n",
    "        markerfacecolor=\"red\",\n",
    "        markersize=10,\n",
    "    )\n",
    "    plt.title(\"Mean score vs. K Value\")\n",
    "    plt.xlabel(\"K\")\n",
    "    plt.ylabel(\"Mean score for 3 folds\")\n",
    "    print(\n",
    "        \"Maximum score:\",\n",
    "        max(mean_scores),\n",
    "        f\"at K = {np.argmax(mean_scores) + 1}\",\n",
    "    )\n"
   ]
  },
  {
   "cell_type": "code",
   "execution_count": 30,
   "metadata": {},
   "outputs": [
    {
     "name": "stdout",
     "output_type": "stream",
     "text": [
      "Mean scores vector for current fold is [0.14130435 0.12460233 0.12778367 0.13149523 0.13918346 0.13812301\n",
      " 0.14793213 0.14422057 0.14448568 0.14978791]\n",
      "Mean scores vector for current fold is [0.13524264 0.12012729 0.12490056 0.12171838 0.13285601 0.13736409\n",
      " 0.14028109 0.14638027 0.14770618 0.14797136]\n",
      "Mean scores vector for current fold is [0.141607   0.13365155 0.12490056 0.13391673 0.1315301  0.13099973\n",
      " 0.13126492 0.13630337 0.13603819 0.13524264]\n",
      "Maximum score: 0.14433397083789246 at K = 10\n"
     ]
    },
    {
     "data": {
      "image/png": "[encoded data removed]",
      "text/plain": [
       "<Figure size 720x432 with 1 Axes>"
      ]
     },
     "metadata": {
      "needs_background": "light"
     },
     "output_type": "display_data"
    }
   ],
   "source": [
    "plot_optimal_kvalue(data, target)\n",
    "# usually takes about 2,5 mins to compute with brute algorithm and about 2 mins with kd_tree \n"
   ]
  },
  {
   "cell_type": "markdown",
   "metadata": {},
   "source": [
    "Как изменится качество на валидации, если:\n",
    "\n",
    "1. Используется косинусная метрика вместо евклидовой.\n",
    "2. К текстам применяется TfIdf векторизацию(sklearn.feature_extraction.text.TfidfVectorizer)\n",
    "\n",
    "Сравните модели, выберите лучшую."
   ]
  },
  {
   "cell_type": "code",
   "execution_count": 31,
   "metadata": {},
   "outputs": [
    {
     "name": "stdout",
     "output_type": "stream",
     "text": [
      "Mean scores vector for current fold is [0.05514316 0.05673383 0.05355249 0.05037116 0.04957582 0.04718982\n",
      " 0.04984093 0.04957582 0.04825027 0.04559915]\n",
      "Mean scores vector for current fold is [0.05383187 0.0548926  0.05648369 0.05303633 0.05171042 0.05144524\n",
      " 0.05648369 0.05887033 0.05807478 0.0578096 ]\n",
      "Mean scores vector for current fold is [0.05144524 0.05515778 0.05621851 0.05462742 0.05171042 0.05038451\n",
      " 0.05409706 0.05038451 0.05277115 0.05224078]\n",
      "Maximum score: 0.055594737573746326 at K = 2\n"
     ]
    },
    {
     "data": {
      "image/png": "[encoded data removed]",
      "text/plain": [
       "<Figure size 720x432 with 1 Axes>"
      ]
     },
     "metadata": {
      "needs_background": "light"
     },
     "output_type": "display_data"
    }
   ],
   "source": [
    "# 1. cosine metric\n",
    "plot_optimal_kvalue(data, target, \"cosine\")\n"
   ]
  },
  {
   "cell_type": "code",
   "execution_count": 32,
   "metadata": {},
   "outputs": [
    {
     "name": "stdout",
     "output_type": "stream",
     "text": [
      "Mean scores vector for current fold is [0.1892895  0.17470838 0.16675504 0.16648993 0.17444327 0.17735949\n",
      " 0.18292683 0.18319194 0.18239661 0.18372216]\n",
      "Mean scores vector for current fold is [0.19146115 0.17873243 0.17767171 0.17475471 0.17555025 0.17608062\n",
      " 0.17793689 0.17528507 0.17661098 0.17793689]\n",
      "Mean scores vector for current fold is [0.17608062 0.16361708 0.1604349  0.1575179  0.15963935 0.1633519\n",
      " 0.16865553 0.16945107 0.1705118  0.1675948 ]\n",
      "Maximum score: 0.18561042256681778 at K = 1\n"
     ]
    },
    {
     "data": {
      "image/png": "[encoded data removed]",
      "text/plain": [
       "<Figure size 720x432 with 1 Axes>"
      ]
     },
     "metadata": {
      "needs_background": "light"
     },
     "output_type": "display_data"
    }
   ],
   "source": [
    "# 2. TfidfVectorizer (good results!)\n",
    "data = newsgroups[\"data\"]\n",
    "tfidf_vectorizer = TfidfVectorizer(min_df=0.1, max_df=0.9)\n",
    "tfidf_data_vectorized = tfidf_vectorizer.fit_transform(data).toarray()\n",
    "plot_optimal_kvalue(tfidf_data_vectorized, target)\n"
   ]
  },
  {
   "cell_type": "code",
   "execution_count": 33,
   "metadata": {},
   "outputs": [
    {
     "name": "stdout",
     "output_type": "stream",
     "text": [
      "Mean scores vector for current fold is [0.05037116 0.05461294 0.05275716 0.0538176  0.05593849 0.05461294\n",
      " 0.05169671 0.05275716 0.05408271 0.05169671]\n",
      "Mean scores vector for current fold is [0.04905861 0.0519756  0.04799788 0.04720233 0.0448157  0.04402015\n",
      " 0.04455052 0.04508088 0.04746752 0.04693715]\n",
      "Mean scores vector for current fold is [0.04958897 0.05091488 0.05038451 0.04985415 0.04905861 0.05277115\n",
      " 0.04985415 0.04932379 0.05011933 0.05356669]\n",
      "Maximum score: 0.05250113913750254 at K = 2\n"
     ]
    },
    {
     "data": {
      "image/png": "[encoded data removed]",
      "text/plain": [
       "<Figure size 720x432 with 1 Axes>"
      ]
     },
     "metadata": {
      "needs_background": "light"
     },
     "output_type": "display_data"
    }
   ],
   "source": [
    "# 3. both\n",
    "plot_optimal_kvalue(tfidf_data_vectorized, target, metric=\"cosine\")\n"
   ]
  },
  {
   "cell_type": "markdown",
   "metadata": {},
   "source": [
    "Загрузим  теперь test  часть нашей выборки и преобразуем её аналогично с train частью. Не забудьте, что наборы слов в train и test части могут отличаться."
   ]
  },
  {
   "cell_type": "code",
   "execution_count": 34,
   "metadata": {
    "collapsed": true,
    "jupyter": {
     "outputs_hidden": true
    }
   },
   "outputs": [],
   "source": [
    "newsgroups = fetch_20newsgroups(\n",
    "    subset=\"test\", remove=[\"headers\", \"footers\", \"quotes\"]\n",
    ")\n",
    "\n",
    "test_data = newsgroups[\"data\"]\n",
    "test_target = newsgroups[\"target\"]\n"
   ]
  },
  {
   "cell_type": "markdown",
   "metadata": {},
   "source": [
    "Оценим точность вашей лучшей модели на test части датасета. Отличается ли оно от кросс-валидации? Попробуйте сделать выводы, почему отличается качество."
   ]
  },
  {
   "cell_type": "code",
   "execution_count": 35,
   "metadata": {
    "collapsed": true,
    "jupyter": {
     "outputs_hidden": true
    }
   },
   "outputs": [
    {
     "name": "stdout",
     "output_type": "stream",
     "text": [
      "Mean score for 3 folds is 0.13435968061908743\n"
     ]
    }
   ],
   "source": [
    "# best model parameters: n_neighbors = 1, tfidf_vectorization and minkowski metric\n",
    "tfidf_vectorizer = TfidfVectorizer()\n",
    "test_tfidf_data_vectorized = tfidf_vectorizer.fit_transform(test_data).toarray()\n",
    "\n",
    "clf = MyKNeighborsClassifier(n_neighbors=1)\n",
    "scores = np.asarray([])\n",
    "for train_index, test_index in kfold.split(test_tfidf_data_vectorized):\n",
    "    clf.fit(test_tfidf_data_vectorized[train_index], test_target[train_index])\n",
    "    pred = clf.predict(test_tfidf_data_vectorized[test_index])\n",
    "    cur_score = accuracy_score(test_target[test_index], pred)\n",
    "    # print(cur_score)\n",
    "    scores = np.append(scores, cur_score)\n",
    "mean_cur_score = np.mean(scores)\n",
    "print(f\"Mean score for 3 folds is {mean_cur_score}\")\n"
   ]
  },
  {
   "cell_type": "markdown",
   "metadata": {},
   "source": [
    "Точность на тесте немного отличается в худшую сторону, что в целом ожидаемо и вполне нормально для любого алгоритма обучения"
   ]
  }
 ],
 "metadata": {
  "kernelspec": {
   "display_name": "Python 3 (ipykernel)",
   "language": "python",
   "name": "python3"
  },
  "language_info": {
   "codemirror_mode": {
    "name": "ipython",
    "version": 3
   },
   "file_extension": ".py",
   "mimetype": "text/x-python",
   "name": "python",
   "nbconvert_exporter": "python",
   "pygments_lexer": "ipython3",
   "version": "3.9.1"
  },
  "widgets": {
   "application/vnd.jupyter.widget-state+json": {
    "state": {},
    "version_major": 2,
    "version_minor": 0
   }
  }
 },
 "nbformat": 4,
 "nbformat_minor": 4
}
